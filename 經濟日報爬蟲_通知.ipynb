{
 "cells": [
  {
   "cell_type": "code",
   "execution_count": 4,
   "id": "6fa723f5",
   "metadata": {
    "ExecuteTime": {
     "end_time": "2024-04-30T02:52:09.554195Z",
     "start_time": "2024-04-30T02:52:09.542255Z"
    }
   },
   "outputs": [],
   "source": [
    "import requests\n",
    "from bs4 import BeautifulSoup\n",
    "from datetime import datetime, timedelta\n",
    "import time"
   ]
  },
  {
   "cell_type": "markdown",
   "id": "4bc031a1",
   "metadata": {},
   "source": [
    "# 經濟日報"
   ]
  },
  {
   "cell_type": "code",
   "execution_count": 23,
   "id": "9b597187",
   "metadata": {
    "ExecuteTime": {
     "end_time": "2024-04-30T03:17:28.962353Z",
     "start_time": "2024-04-30T02:57:22.055792Z"
    },
    "code_folding": [],
    "collapsed": true
   },
   "outputs": [
    {
     "name": "stdout",
     "output_type": "stream",
     "text": [
      "00:01 ~ 10:57 開始執行\n",
      "news od 8 =======\n",
      "標題: 日媒：新供應鏈興起中國稀土業獲利受打擊\n",
      "時間: 2024-04-30 10:54\n",
      "連結: https://money.udn.com/money/story/5599/7932542?from=edn_newestlist_rank\n",
      "news od 11 =======\n",
      "標題: 賴清德接見日本自民黨訪團期待520後台日加強合作\n",
      "時間: 2024-04-30 10:54\n",
      "連結: https://money.udn.com/money/story/7307/7932543?from=edn_newestlist_rank\n",
      "news od 20 =======\n",
      "標題: 整理包／特斯拉狂攻超級電腦Dojo力拚全自駕車自動駕駛技術發展如何、供應鏈一次看\n",
      "時間: 2024-04-30 10:54\n",
      "連結: https://money.udn.com/money/story/5612/7285140?from=edn_newestlist_rank\n",
      "news od 49 =======\n",
      "標題: 世界先進第1季獲利創6年新低每股純益0.78元\n",
      "時間: 2024-04-30 10:54\n",
      "連結: https://money.udn.com/money/story/5612/7932327?from=edn_newestlist_rank\n",
      "00:01 ~ 10:57 done\n",
      "10:57 ~ 11:07 開始執行\n",
      "news od 15 =======\n",
      "標題: 日媒：新供應鏈興起中國稀土業獲利受打擊\n",
      "時間: 2024-04-30 11:06\n",
      "連結: https://money.udn.com/money/story/5599/7932542?from=edn_newestlist_rank\n",
      "news od 18 =======\n",
      "標題: 賴清德接見日本自民黨訪團期待520後台日加強合作\n",
      "時間: 2024-04-30 11:06\n",
      "連結: https://money.udn.com/money/story/7307/7932543?from=edn_newestlist_rank\n",
      "news od 27 =======\n",
      "標題: 整理包／特斯拉狂攻超級電腦Dojo力拚全自駕車自動駕駛技術發展如何、供應鏈一次看\n",
      "時間: 2024-04-30 11:06\n",
      "連結: https://money.udn.com/money/story/5612/7285140?from=edn_newestlist_rank\n",
      "news od 56 =======\n",
      "標題: 世界先進第1季獲利創6年新低每股純益0.78元\n",
      "時間: 2024-04-30 11:06\n",
      "連結: https://money.udn.com/money/story/5612/7932327?from=edn_newestlist_rank\n",
      "10:57 ~ 11:07 done\n"
     ]
    },
    {
     "ename": "KeyboardInterrupt",
     "evalue": "",
     "output_type": "error",
     "traceback": [
      "\u001b[1;31m---------------------------------------------------------------------------\u001b[0m",
      "\u001b[1;31mKeyboardInterrupt\u001b[0m                         Traceback (most recent call last)",
      "Cell \u001b[1;32mIn[23], line 75\u001b[0m\n\u001b[0;32m     72\u001b[0m output_money_news_to_line(url, begin_time, lst_keywords)\n\u001b[0;32m     73\u001b[0m \u001b[38;5;28mprint\u001b[39m(begin_time, \u001b[38;5;124m'\u001b[39m\u001b[38;5;124m~\u001b[39m\u001b[38;5;124m'\u001b[39m, datetime\u001b[38;5;241m.\u001b[39mnow()\u001b[38;5;241m.\u001b[39mstrftime(\u001b[38;5;124m\"\u001b[39m\u001b[38;5;124m%\u001b[39m\u001b[38;5;124mH:\u001b[39m\u001b[38;5;124m%\u001b[39m\u001b[38;5;124mM\u001b[39m\u001b[38;5;124m\"\u001b[39m), \u001b[38;5;124m'\u001b[39m\u001b[38;5;124mdone\u001b[39m\u001b[38;5;124m'\u001b[39m)\n\u001b[1;32m---> 75\u001b[0m \u001b[43mtime\u001b[49m\u001b[38;5;241;43m.\u001b[39;49m\u001b[43msleep\u001b[49m\u001b[43m(\u001b[49m\u001b[38;5;241;43m600\u001b[39;49m\u001b[43m)\u001b[49m\n",
      "\u001b[1;31mKeyboardInterrupt\u001b[0m: "
     ]
    }
   ],
   "source": [
    "# 經濟日報\n",
    "def lineNotifyMessage(token, msg):\n",
    "    headers = {\n",
    "        \"Authorization\": 'Bearer ' + token, \n",
    "        # \"Content-Type\" : \"application/x-www-form-urlencoded\"\n",
    "    }\n",
    "\n",
    "    data = {'message': msg}\n",
    "    \n",
    "    try:\n",
    "        r = requests.post(\"https://notify-api.line.me/api/notify\", headers=headers, data=data)\n",
    "        r.raise_for_status()  # 如果發生錯誤，會丟出相應的異常\n",
    "        return r.status_code\n",
    "    except requests.exceptions.RequestException as e:\n",
    "        print(\"Error:\", e)\n",
    "        return None\n",
    "\n",
    "\n",
    "def output_money_news_to_line(url, begin_time, lst_keywords, token):\n",
    "    r = requests.get(url)\n",
    "    # print(r)\n",
    "    soup = BeautifulSoup(r.text,\"lxml\")\n",
    "    # print(soup)\n",
    "\n",
    "    for i in range(5000):\n",
    "        try:\n",
    "            title = soup.select(\"div.story__content\")[i].select(\"h3.story__headline\")[0].text.replace(' ','').replace('\\n','')\n",
    "            date = soup.select(\"div.story__content\")[0].select(\"time\")[0].text.split(' ')[0]\n",
    "            date_time = soup.select(\"div.story__content\")[0].select(\"time\")[0].text.split(' ')[1]\n",
    "            link = soup.select(\"div.story__content\")[i].select(\"a\")[0]['href']\n",
    "            if date_time < begin_time:\n",
    "                break\n",
    "            if any(keyword in title for keyword in lst_keywords):\n",
    "#                 print('news od', i, '=======')\n",
    "#                 print('標題:', title)\n",
    "#                 print('時間:', date, date_time)\n",
    "#                 print('連結:', link)\n",
    "                message = (\n",
    "                    '📝'+ title + '\\n' +\n",
    "                    '🔗網址: ' + '\\n' + \n",
    "                    link\n",
    "                )\n",
    "                # print(message)\n",
    "                lineNotifyMessage(token, message)\n",
    "        except:\n",
    "    #         print('news od', i, '=======')\n",
    "    #         print('news od', i, 'GGGGGGGGGGG')\n",
    "            break\n",
    "    return\n",
    "    \n",
    "# ==================\n",
    "# def main_func():\n",
    "keywords = ['股利', '營業收入', '第一季', '第1季', '貢獻', 'EPS', '打入', '供應鏈', '跨足', '訂單', '採用', '新藥', '認證', '通過', 'FDA', '簽訂', '合作', '自結', '結盟', '補助', '資產', '售地', '判賠', '訴訟', '官司', '記者會', '合約', '疫情', '新冠', '現金增資', '取得', '有價證券', '收購', '併購', '土地', '業外']\n",
    "seasons = ['第一季', '第二季', '第三季', '第四季', '第1季', '第2季', '第3季', '第4季']\n",
    "# '政府', '行政院'\n",
    "lst_keywords = list(set(keywords + seasons))\n",
    "\n",
    "url = \"https://money.udn.com/rank/newest\" \n",
    "\n",
    "token = '5e6kTVd30KYp3riyLqVziXfMdLNWvWL1xKQl0163RUR'   # 經濟日報通知 - test群組\n",
    "\n",
    "wait_minutes = 10\n",
    "\n",
    "for excute_od in range(3):\n",
    "    if excute_od == 0:\n",
    "        begin_time = '00:01'\n",
    "    else:\n",
    "        begin_time = (datetime.now() - timedelta(minutes=wait_minutes)).strftime(\"%H:%M\")\n",
    "\n",
    "    print(begin_time, '~', datetime.now().strftime(\"%H:%M\"), '開始執行')\n",
    "    output_money_news_to_line(url, begin_time, lst_keywords, token)\n",
    "    print(begin_time, '~', datetime.now().strftime(\"%H:%M\"), 'done')\n",
    "\n",
    "    time.sleep(600)\n",
    "# return\n",
    "\n",
    "main_func()"
   ]
  },
  {
   "cell_type": "code",
   "execution_count": 20,
   "id": "ae678e5e",
   "metadata": {
    "ExecuteTime": {
     "end_time": "2024-04-30T02:55:51.806136Z",
     "start_time": "2024-04-30T02:55:49.455686Z"
    },
    "code_folding": [
     1
    ],
    "collapsed": true
   },
   "outputs": [
    {
     "name": "stdout",
     "output_type": "stream",
     "text": [
      "news od 8 =======\n",
      "標題: 日媒：新供應鏈興起中國稀土業獲利受打擊\n",
      "時間: 2024-04-30 10:54\n",
      "連結: https://money.udn.com/money/story/5599/7932542?from=edn_newestlist_rank\n",
      "📝日媒：新供應鏈興起中國稀土業獲利受打擊\n",
      "🔗網址: \n",
      "https://money.udn.com/money/story/5599/7932542?from=edn_newestlist_rank\n",
      "news od 11 =======\n",
      "標題: 賴清德接見日本自民黨訪團期待520後台日加強合作\n",
      "時間: 2024-04-30 10:54\n",
      "連結: https://money.udn.com/money/story/7307/7932543?from=edn_newestlist_rank\n",
      "📝賴清德接見日本自民黨訪團期待520後台日加強合作\n",
      "🔗網址: \n",
      "https://money.udn.com/money/story/7307/7932543?from=edn_newestlist_rank\n",
      "news od 20 =======\n",
      "標題: 整理包／特斯拉狂攻超級電腦Dojo力拚全自駕車自動駕駛技術發展如何、供應鏈一次看\n",
      "時間: 2024-04-30 10:54\n",
      "連結: https://money.udn.com/money/story/5612/7285140?from=edn_newestlist_rank\n",
      "📝整理包／特斯拉狂攻超級電腦Dojo力拚全自駕車自動駕駛技術發展如何、供應鏈一次看\n",
      "🔗網址: \n",
      "https://money.udn.com/money/story/5612/7285140?from=edn_newestlist_rank\n",
      "news od 49 =======\n",
      "標題: 世界先進第1季獲利創6年新低每股純益0.78元\n",
      "時間: 2024-04-30 10:54\n",
      "連結: https://money.udn.com/money/story/5612/7932327?from=edn_newestlist_rank\n",
      "📝世界先進第1季獲利創6年新低每股純益0.78元\n",
      "🔗網址: \n",
      "https://money.udn.com/money/story/5612/7932327?from=edn_newestlist_rank\n"
     ]
    },
    {
     "ename": "IndexError",
     "evalue": "list index out of range",
     "output_type": "error",
     "traceback": [
      "\u001b[1;31m---------------------------------------------------------------------------\u001b[0m",
      "\u001b[1;31mIndexError\u001b[0m                                Traceback (most recent call last)",
      "Cell \u001b[1;32mIn[20], line 42\u001b[0m\n\u001b[0;32m     38\u001b[0m     \u001b[38;5;28;01mreturn\u001b[39;00m\n\u001b[0;32m     41\u001b[0m begin_time \u001b[38;5;241m=\u001b[39m \u001b[38;5;124m'\u001b[39m\u001b[38;5;124m00:01\u001b[39m\u001b[38;5;124m'\u001b[39m\n\u001b[1;32m---> 42\u001b[0m \u001b[43moutput_money_news_to_line\u001b[49m\u001b[43m(\u001b[49m\u001b[43murl\u001b[49m\u001b[43m,\u001b[49m\u001b[43m \u001b[49m\u001b[43mbegin_time\u001b[49m\u001b[43m)\u001b[49m\n",
      "Cell \u001b[1;32mIn[20], line 10\u001b[0m, in \u001b[0;36moutput_money_news_to_line\u001b[1;34m(url, begin_time)\u001b[0m\n\u001b[0;32m      6\u001b[0m \u001b[38;5;66;03m# print(soup)\u001b[39;00m\n\u001b[0;32m      8\u001b[0m \u001b[38;5;28;01mfor\u001b[39;00m i \u001b[38;5;129;01min\u001b[39;00m \u001b[38;5;28mrange\u001b[39m(\u001b[38;5;241m5000\u001b[39m):\n\u001b[0;32m      9\u001b[0m     \u001b[38;5;66;03m# try:\u001b[39;00m\n\u001b[1;32m---> 10\u001b[0m         title \u001b[38;5;241m=\u001b[39m \u001b[43msoup\u001b[49m\u001b[38;5;241;43m.\u001b[39;49m\u001b[43mselect\u001b[49m\u001b[43m(\u001b[49m\u001b[38;5;124;43m\"\u001b[39;49m\u001b[38;5;124;43mdiv.story__content\u001b[39;49m\u001b[38;5;124;43m\"\u001b[39;49m\u001b[43m)\u001b[49m\u001b[43m[\u001b[49m\u001b[43mi\u001b[49m\u001b[43m]\u001b[49m\u001b[38;5;241m.\u001b[39mselect(\u001b[38;5;124m\"\u001b[39m\u001b[38;5;124mh3.story__headline\u001b[39m\u001b[38;5;124m\"\u001b[39m)[\u001b[38;5;241m0\u001b[39m]\u001b[38;5;241m.\u001b[39mtext\u001b[38;5;241m.\u001b[39mreplace(\u001b[38;5;124m'\u001b[39m\u001b[38;5;124m \u001b[39m\u001b[38;5;124m'\u001b[39m,\u001b[38;5;124m'\u001b[39m\u001b[38;5;124m'\u001b[39m)\u001b[38;5;241m.\u001b[39mreplace(\u001b[38;5;124m'\u001b[39m\u001b[38;5;130;01m\\n\u001b[39;00m\u001b[38;5;124m'\u001b[39m,\u001b[38;5;124m'\u001b[39m\u001b[38;5;124m'\u001b[39m)\n\u001b[0;32m     11\u001b[0m         date \u001b[38;5;241m=\u001b[39m soup\u001b[38;5;241m.\u001b[39mselect(\u001b[38;5;124m\"\u001b[39m\u001b[38;5;124mdiv.story__content\u001b[39m\u001b[38;5;124m\"\u001b[39m)[\u001b[38;5;241m0\u001b[39m]\u001b[38;5;241m.\u001b[39mselect(\u001b[38;5;124m\"\u001b[39m\u001b[38;5;124mtime\u001b[39m\u001b[38;5;124m\"\u001b[39m)[\u001b[38;5;241m0\u001b[39m]\u001b[38;5;241m.\u001b[39mtext\u001b[38;5;241m.\u001b[39msplit(\u001b[38;5;124m'\u001b[39m\u001b[38;5;124m \u001b[39m\u001b[38;5;124m'\u001b[39m)[\u001b[38;5;241m0\u001b[39m]\n\u001b[0;32m     12\u001b[0m         date_time \u001b[38;5;241m=\u001b[39m soup\u001b[38;5;241m.\u001b[39mselect(\u001b[38;5;124m\"\u001b[39m\u001b[38;5;124mdiv.story__content\u001b[39m\u001b[38;5;124m\"\u001b[39m)[\u001b[38;5;241m0\u001b[39m]\u001b[38;5;241m.\u001b[39mselect(\u001b[38;5;124m\"\u001b[39m\u001b[38;5;124mtime\u001b[39m\u001b[38;5;124m\"\u001b[39m)[\u001b[38;5;241m0\u001b[39m]\u001b[38;5;241m.\u001b[39mtext\u001b[38;5;241m.\u001b[39msplit(\u001b[38;5;124m'\u001b[39m\u001b[38;5;124m \u001b[39m\u001b[38;5;124m'\u001b[39m)[\u001b[38;5;241m1\u001b[39m]\n",
      "\u001b[1;31mIndexError\u001b[0m: list index out of range"
     ]
    }
   ],
   "source": [
    "url = \"https://money.udn.com/rank/newest\" \n",
    "def output_money_news_to_line(url, begin_time):\n",
    "    r = requests.get(url)\n",
    "    # print(r)\n",
    "    soup = BeautifulSoup(r.text,\"lxml\")\n",
    "    # print(soup)\n",
    "\n",
    "    for i in range(5000):\n",
    "        # try:\n",
    "            title = soup.select(\"div.story__content\")[i].select(\"h3.story__headline\")[0].text.replace(' ','').replace('\\n','')\n",
    "            date = soup.select(\"div.story__content\")[0].select(\"time\")[0].text.split(' ')[0]\n",
    "            date_time = soup.select(\"div.story__content\")[0].select(\"time\")[0].text.split(' ')[1]\n",
    "            link = soup.select(\"div.story__content\")[i].select(\"a\")[0]['href']\n",
    "#             print(date_time)\n",
    "#             print(date_time < begin_time)\n",
    "            if date_time < begin_time:\n",
    "                break\n",
    "#             print('news od', i, '=======')\n",
    "#             print('標題:', title)\n",
    "#             print('時間:', date, date_time)\n",
    "#             print('連結:', link)\n",
    "            if any(keyword in title for keyword in keywords):\n",
    "                print('news od', i, '=======')\n",
    "                print('標題:', title)\n",
    "                print('時間:', date, date_time)\n",
    "                print('連結:', link)\n",
    "                message = (\n",
    "                    '📝'+ title + '\\n' +\n",
    "                    '🔗網址: ' + '\\n' + \n",
    "                    link\n",
    "                )\n",
    "                print(message)\n",
    "                # lineNotifyMessage(token, message, image_filename)\n",
    "#         except:\n",
    "#     #         print('news od', i, '=======')\n",
    "#     #         print('news od', i, 'GGGGGGGGGGG')\n",
    "#             break\n",
    "    return\n",
    "\n",
    "\n",
    "begin_time = '00:01'\n",
    "output_money_news_to_line(url, begin_time)"
   ]
  },
  {
   "cell_type": "code",
   "execution_count": 9,
   "id": "329c1a35",
   "metadata": {
    "ExecuteTime": {
     "end_time": "2024-04-30T02:53:09.009996Z",
     "start_time": "2024-04-30T02:53:08.992197Z"
    }
   },
   "outputs": [
    {
     "data": {
      "text/plain": [
       "False"
      ]
     },
     "execution_count": 9,
     "metadata": {},
     "output_type": "execute_result"
    }
   ],
   "source": [
    "'10:52'<'00:01'"
   ]
  },
  {
   "cell_type": "markdown",
   "id": "33f202c4",
   "metadata": {
    "heading_collapsed": true
   },
   "source": [
    "# line notify"
   ]
  },
  {
   "cell_type": "code",
   "execution_count": null,
   "id": "80003ef2",
   "metadata": {
    "code_folding": [],
    "hidden": true
   },
   "outputs": [],
   "source": [
    "import requests\n",
    "import json\n",
    "\n",
    "# line notify\n",
    "def lineNotifyMessage(token, msg):\n",
    "    headers = {\n",
    "        \"Authorization\": 'Bearer ' + token, \n",
    "        # \"Content-Type\" : \"application/x-www-form-urlencoded\"\n",
    "    }\n",
    "\n",
    "    data = {'message': msg}\n",
    "    \n",
    "    try:\n",
    "        r = requests.post(\"https://notify-api.line.me/api/notify\", headers=headers, data=data)\n",
    "        r.raise_for_status()  # 如果發生錯誤，會丟出相應的異常\n",
    "        return r.status_code\n",
    "    except requests.exceptions.RequestException as e:\n",
    "        print(\"Error:\", e)\n",
    "        return None\n",
    "\n",
    "token = '5e6kTVd30KYp3riyLqVziXfMdLNWvWL1xKQl0163RUR'   # 經濟日報通知\n",
    "token = '8tia3RLmEzqUCqZ0KbkH2mJGosy484K6bNn9oDSKxAI'   # 工商時報通知\n",
    "\n",
    "for i in df_new.index:\n",
    "    # message = 'test'\n",
    "    message = (\n",
    "      '公司:', df_new.at[i, 'scode'] + ' ' + df_new.at[i, 'sname'] + '\\n' +  \n",
    "      '日期:', df_new.at[i, 'date'] + '\\n' +\n",
    "      '時間:', df_new.at[i, 'time'] + '\\n' +\n",
    "      '主旨:', df_new.at[i, 'title']\n",
    "     )\n",
    "    # image_filename = str(df_new.at[i, 'temp_id'])+'.png'\n",
    "    lineNotifyMessage(token, message, image_filename)\n"
   ]
  },
  {
   "cell_type": "code",
   "execution_count": null,
   "id": "a3545472",
   "metadata": {
    "code_folding": [
     52
    ],
    "hidden": true
   },
   "outputs": [],
   "source": [
    "import requests\n",
    "from bs4 import BeautifulSoup\n",
    "from datetime import datetime, timedelta\n",
    "import time\n",
    "\n",
    "# 經濟日報\n",
    "def lineNotifyMessage(token, msg):\n",
    "    headers = {\n",
    "        \"Authorization\": 'Bearer ' + token, \n",
    "        # \"Content-Type\" : \"application/x-www-form-urlencoded\"\n",
    "    }\n",
    "\n",
    "    data = {'message': msg}\n",
    "    \n",
    "    try:\n",
    "        r = requests.post(\"https://notify-api.line.me/api/notify\", headers=headers, data=data)\n",
    "        r.raise_for_status()  # 如果發生錯誤，會丟出相應的異常\n",
    "        return r.status_code\n",
    "    except requests.exceptions.RequestException as e:\n",
    "        print(\"Error:\", e)\n",
    "        return None\n",
    "\n",
    "\n",
    "def output_money_news_to_line(url, begin_time, lst_keywords):\n",
    "    r = requests.get(url)\n",
    "    # print(r)\n",
    "    soup = BeautifulSoup(r.text,\"lxml\")\n",
    "    # print(soup)\n",
    "\n",
    "    for i in range(5000):\n",
    "        try:\n",
    "            title = soup.select(\"div.story__content\")[i].select(\"h3.story__headline\")[0].text.replace(' ','').replace('\\n','')\n",
    "            date = soup.select(\"div.story__content\")[0].select(\"time\")[0].text.split(' ')[0]\n",
    "            date_time = soup.select(\"div.story__content\")[0].select(\"time\")[0].text.split(' ')[1]\n",
    "            link = soup.select(\"div.story__content\")[i].select(\"a\")[0]['href']\n",
    "            if date_time < begin_time:\n",
    "                break\n",
    "            if any(keyword in title for keyword in keywords):\n",
    "                message = (\n",
    "                    '📝'+ title + '\\n' +\n",
    "                    '🔗網址: ' + '\\n' + \n",
    "                    link\n",
    "                )\n",
    "                # print(message)\n",
    "                lineNotifyMessage(token, message)\n",
    "        except:\n",
    "    #         print('news od', i, '=======')\n",
    "    #         print('news od', i, 'GGGGGGGGGGG')\n",
    "            break\n",
    "    return\n",
    "    \n",
    "# ==================\n",
    "def main_func():\n",
    "    keywords = ['股利', '營業收入', '第一季', '第1季', '貢獻', 'EPS', '打入', '供應鏈', '跨足', '訂單', '採用', '新藥', '認證', '通過', 'FDA', '簽訂', '合作', '自結', '結盟', '補助', '資產', '售地', '判賠', '訴訟', '官司', '記者會', '合約', '疫情', '新冠', '現金增資', '取得', '有價證券', '收購', '併購', '土地', '業外']\n",
    "    seasons = ['第一季', '第二季', '第三季', '第四季', '第1季', '第2季', '第3季', '第4季']\n",
    "    # '政府', '行政院'\n",
    "    lst_keywords = list(set(keywords + seasons))\n",
    "\n",
    "    url = \"https://money.udn.com/rank/newest\" \n",
    "\n",
    "    token = '5e6kTVd30KYp3riyLqVziXfMdLNWvWL1xKQl0163RUR'   # 經濟日報通知 - test群組\n",
    "\n",
    "    wait_minutes = 10\n",
    "\n",
    "    for excute_od in range(3):\n",
    "        if excute_od == 0:\n",
    "            begin_time = '00:01'\n",
    "        else:\n",
    "            begin_time = (datetime.now() - timedelta(minutes=wait_minutes)).strftime(\"%H:%M\")\n",
    "\n",
    "        print(begin_time, '~', datetime.now().strftime(\"%H:%M\"), '開始執行')\n",
    "        output_money_news_to_line(url, begin_time, lst_keywords)\n",
    "        print(begin_time, '~', datetime.now().strftime(\"%H:%M\"), 'done')\n",
    "\n",
    "        time.sleep(600)\n",
    "    return\n",
    "\n",
    "main_func()"
   ]
  }
 ],
 "metadata": {
  "hide_input": false,
  "kernelspec": {
   "display_name": "Python 3 (ipykernel)",
   "language": "python",
   "name": "python3"
  },
  "language_info": {
   "codemirror_mode": {
    "name": "ipython",
    "version": 3
   },
   "file_extension": ".py",
   "mimetype": "text/x-python",
   "name": "python",
   "nbconvert_exporter": "python",
   "pygments_lexer": "ipython3",
   "version": "3.10.9"
  },
  "toc": {
   "base_numbering": 1,
   "nav_menu": {},
   "number_sections": true,
   "sideBar": true,
   "skip_h1_title": false,
   "title_cell": "Table of Contents",
   "title_sidebar": "Contents",
   "toc_cell": false,
   "toc_position": {},
   "toc_section_display": true,
   "toc_window_display": false
  },
  "varInspector": {
   "cols": {
    "lenName": 16,
    "lenType": 16,
    "lenVar": 40
   },
   "kernels_config": {
    "python": {
     "delete_cmd_postfix": "",
     "delete_cmd_prefix": "del ",
     "library": "var_list.py",
     "varRefreshCmd": "print(var_dic_list())"
    },
    "r": {
     "delete_cmd_postfix": ") ",
     "delete_cmd_prefix": "rm(",
     "library": "var_list.r",
     "varRefreshCmd": "cat(var_dic_list()) "
    }
   },
   "types_to_exclude": [
    "module",
    "function",
    "builtin_function_or_method",
    "instance",
    "_Feature"
   ],
   "window_display": false
  }
 },
 "nbformat": 4,
 "nbformat_minor": 5
}
