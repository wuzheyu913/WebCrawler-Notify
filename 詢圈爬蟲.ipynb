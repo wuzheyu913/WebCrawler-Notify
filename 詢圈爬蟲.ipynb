{
 "cells": [
  {
   "cell_type": "markdown",
   "id": "03e0ebce",
   "metadata": {},
   "source": [
    "需要資料\n",
    "- 公司中文全稱.csv\n",
    "- 交易日 20050101-20280101.csv"
   ]
  },
  {
   "cell_type": "code",
   "execution_count": null,
   "id": "a3c8f1d9",
   "metadata": {},
   "outputs": [],
   "source": [
    "# token = 'HsKK9aVLMkapUon6YT0J96FrutwumuIVqQksVutM2ft'  # 群組 : 除權息策略通知 # 可轉債詢圈"
   ]
  },
  {
   "cell_type": "code",
   "execution_count": 14,
   "id": "5f2fe184",
   "metadata": {
    "ExecuteTime": {
     "end_time": "2024-05-17T06:32:02.395126Z",
     "start_time": "2024-05-17T06:31:59.643365Z"
    },
    "code_folding": [
     78
    ]
   },
   "outputs": [
    {
     "name": "stdout",
     "output_type": "stream",
     "text": [
      "\n",
      "詢圈標的 : 8467 波力-KY\n",
      "主承銷商 : 富邦\n",
      "詢圈比例 : 88.38 %\n",
      "詢圈期間 : 2024/05/17 ~ 2024/05/21\n",
      "持有 10 天賣出日期 : 2024/05/30\n"
     ]
    }
   ],
   "source": [
    "from selenium import webdriver\n",
    "from selenium.webdriver.common.by import By\n",
    "from selenium.webdriver.chrome.options import Options\n",
    "\n",
    "import requests\n",
    "from bs4 import BeautifulSoup\n",
    "import pandas as pd\n",
    "from datetime import datetime\n",
    "\n",
    "\n",
    "# 設置 Chrome 選項\n",
    "chrome_options = Options()\n",
    "chrome_options.add_argument(\"--headless\")  # 啟用無頭模式\n",
    "\n",
    "# 建立連結 開啟網頁\n",
    "driver = webdriver.Chrome(options=chrome_options)\n",
    "url = \"https://web.twsa.org.tw/edoc2/default.aspx\"\n",
    "driver.get(url)\n",
    "\n",
    "# 找到詢圈按鈕 點擊\n",
    "element = driver.find_element(By.ID, \"ctl00_cphMain_rblReportType_2\")\n",
    "element.click()\n",
    "\n",
    "# 拿取 網頁html\n",
    "html = driver.page_source\n",
    "soup = BeautifulSoup(html, \"html.parser\")\n",
    "driver.quit()\n",
    "# -------------------------------------\n",
    "# 把表格整理成 dataframe\n",
    "df = pd.DataFrame()\n",
    "\n",
    "soup_table =soup.select('table.captionStyle')[0].select('tr')\n",
    "for i in range(1, len(soup_table)):\n",
    "    comp_whole_name = soup_table[i].find_all('td')[1].text\n",
    "    broker = soup_table[i].find_all('td')[2].text\n",
    "    guarantee = soup_table[i].find_all('td')[3].text\n",
    "    sell_amount = soup_table[i].find_all('td')[4].text\n",
    "    comp_buy = soup_table[i].find_all('td')[5].text\n",
    "    start_date = soup_table[i].find_all('td')[6].text.split('~')[0]\n",
    "    end_date = soup_table[i].find_all('td')[6].text.split('~')[1]\n",
    "    price = soup_table[i].find_all('td')[7].text\n",
    "    if '公司債' in guarantee: \n",
    "        df = pd.concat([df, pd.DataFrame({\n",
    "            '公司全名' : [comp_whole_name],\n",
    "            '主辦承銷商' : [broker],\n",
    "            '擔保(是/否)' : [guarantee[:3]],\n",
    "            '承銷股數' : [sell_amount],\n",
    "            '詢圈銷售股數' : [comp_buy],\n",
    "            '詢圈開始' : [start_date],\n",
    "            '詢圈結束' : [end_date],\n",
    "            '價格' : [price]\n",
    "        })])\n",
    "\n",
    "df = df.reset_index(drop=True)\n",
    "\n",
    "# -------------------------------------\n",
    "# 計算 詢圈佔承銷比例\n",
    "df['詢圈銷售股數'] = df['詢圈銷售股數'].apply(lambda x : x.replace(',','')).astype(float)\n",
    "df['承銷股數'] = df['承銷股數'].apply(lambda x : x.replace(',','')).astype(float)\n",
    "df['詢圈佔承銷比例'] = round(df['詢圈銷售股數'] / df['承銷股數'] *100, 2)\n",
    "\n",
    "# -------------------------------------\n",
    "# 標上 scode sname\n",
    "df_compname = pd.read_csv('公司中文全稱.csv', encoding='utf-16', sep='\\t')\n",
    "df_compname.rename(columns={'公司中文全稱':'公司全名', '證期會代碼':'scode', '公司中文簡稱':'sname'}, inplace=True)\n",
    "df_compname = df_compname[['scode', 'sname', '公司全名']]\n",
    "df_compname['公司全名'] = df_compname['公司全名'].apply(lambda x:x.replace(' ', ''))\n",
    "\n",
    "df['公司全名'] = df['公司全名'].apply(lambda x:x.split('股份有限公司')[0])\n",
    "df = df.merge(df_compname, on='公司全名', how='left')\n",
    "\n",
    "df['主辦承銷商'] = df['主辦承銷商'].apply(lambda x:x.replace('綜合證券股份有限公司', '').replace('證券股份有限公司', ''))\n",
    "df = df[['scode', 'sname', '主辦承銷商', '詢圈佔承銷比例', '承銷股數', '詢圈銷售股數', '詢圈開始', '詢圈結束', '價格', '擔保(是/否)', '公司全名']]\n",
    "\n",
    "df.to_excel('詢圈標的.xlsx', index=False)\n",
    "\n",
    "# -------------------------------------\n",
    "# 寄送訊息\n",
    "def lineNotifyMessage(token, msg):\n",
    "    headers = {\n",
    "        \"Authorization\": 'Bearer ' + token, \n",
    "        # \"Content-Type\" : \"application/x-www-form-urlencoded\"\n",
    "    }\n",
    "\n",
    "    data = {'message': msg}\n",
    "    \n",
    "    try:\n",
    "        r = requests.post(\"https://notify-api.line.me/api/notify\", headers=headers, data=data)\n",
    "        r.raise_for_status()  # 如果發生錯誤，會丟出相應的異常\n",
    "        return r.status_code\n",
    "    except requests.exceptions.RequestException as e:\n",
    "        print(\"Error:\", e)\n",
    "        return None\n",
    "    \n",
    "\n",
    "token = 'HsKK9aVLMkapUon6YT0J96FrutwumuIVqQksVutM2ft'  # 群組 : 除權息策略通知 # 可轉債詢圈\n",
    "\n",
    "# today = '2024/05/15'\n",
    "today = datetime.now().strftime(\"%Y/%m/%d\")\n",
    "\n",
    "# 計算持有 10 天後的日期\n",
    "trade_date = pd.read_csv('交易日 20050101-20280101.csv')\n",
    "trade_date['日期'] = trade_date['日期'].apply(lambda x : x.replace('-','/'))\n",
    "hold_days = 10\n",
    "days_cnt = trade_date.loc[trade_date['日期']==today, '累計交易日次'].iloc[0] + (hold_days-1)\n",
    "sell_day = trade_date.loc[trade_date['累計交易日次']==days_cnt, '日期'].iloc[0]\n",
    "\n",
    "\n",
    "df_today = df[df['詢圈開始']==today].reset_index(drop=True)\n",
    "if df_today.empty:\n",
    "    msg = '今日(%s)沒有開始詢圈標的'%(today)\n",
    "    print(msg)\n",
    "    lineNotifyMessage(token, msg)\n",
    "else:\n",
    "    for i in range(len(df_today)):\n",
    "    #     print(df_today.at[i, 'scode'])\n",
    "    #     print(df_today.at[i, 'sname'])\n",
    "    #     print(df_today.at[i, '主辦承銷商'])\n",
    "    #     print(df_today.at[i, '詢圈佔承銷比例'])\n",
    "\n",
    "        msg = ('\\n' + \n",
    "               # '今日開始詢圈標的' + '\\n' +\n",
    "               '詢圈標的 : ' + str(df_today.at[i, 'scode']) + ' ' + df_today.at[i, 'sname'] + '\\n' +\n",
    "               '主承銷商 : ' + df_today.at[i, '主辦承銷商'] + '\\n' +\n",
    "               '詢圈比例 : ' + str(df_today.at[i, '詢圈佔承銷比例']) + ' %' + '\\n' + \n",
    "               '詢圈期間 : ' + df_today.at[i, '詢圈開始'] + ' ~ ' + df_today.at[i, '詢圈結束'] + '\\n' + \n",
    "               '持有 10 天賣出日期 : ' + sell_day\n",
    "              )\n",
    "        print(msg)\n",
    "        lineNotifyMessage(token, msg)"
   ]
  },
  {
   "cell_type": "code",
   "execution_count": null,
   "id": "2b02d1dd",
   "metadata": {},
   "outputs": [],
   "source": []
  }
 ],
 "metadata": {
  "hide_input": false,
  "kernelspec": {
   "display_name": "Python 3 (ipykernel)",
   "language": "python",
   "name": "python3"
  },
  "language_info": {
   "codemirror_mode": {
    "name": "ipython",
    "version": 3
   },
   "file_extension": ".py",
   "mimetype": "text/x-python",
   "name": "python",
   "nbconvert_exporter": "python",
   "pygments_lexer": "ipython3",
   "version": "3.10.9"
  },
  "toc": {
   "base_numbering": 1,
   "nav_menu": {},
   "number_sections": true,
   "sideBar": true,
   "skip_h1_title": false,
   "title_cell": "Table of Contents",
   "title_sidebar": "Contents",
   "toc_cell": false,
   "toc_position": {},
   "toc_section_display": true,
   "toc_window_display": false
  },
  "varInspector": {
   "cols": {
    "lenName": 16,
    "lenType": 16,
    "lenVar": 40
   },
   "kernels_config": {
    "python": {
     "delete_cmd_postfix": "",
     "delete_cmd_prefix": "del ",
     "library": "var_list.py",
     "varRefreshCmd": "print(var_dic_list())"
    },
    "r": {
     "delete_cmd_postfix": ") ",
     "delete_cmd_prefix": "rm(",
     "library": "var_list.r",
     "varRefreshCmd": "cat(var_dic_list()) "
    }
   },
   "types_to_exclude": [
    "module",
    "function",
    "builtin_function_or_method",
    "instance",
    "_Feature"
   ],
   "window_display": false
  }
 },
 "nbformat": 4,
 "nbformat_minor": 5
}
