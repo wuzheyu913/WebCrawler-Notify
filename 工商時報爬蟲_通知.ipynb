{
 "cells": [
  {
   "cell_type": "code",
   "execution_count": 1,
   "id": "78eecc0d",
   "metadata": {
    "ExecuteTime": {
     "end_time": "2024-05-03T00:26:35.818610Z",
     "start_time": "2024-05-03T00:26:35.113135Z"
    }
   },
   "outputs": [],
   "source": [
    "from datetime import datetime, timedelta\n",
    "import time\n",
    "import pandas as pd\n",
    "import requests\n",
    "\n",
    "from selenium import webdriver\n",
    "from selenium.webdriver.common.by import By\n",
    "from selenium.webdriver.firefox.options import Options\n",
    "from selenium.webdriver.support.ui import WebDriverWait\n",
    "from selenium.webdriver.support import expected_conditions as EC"
   ]
  },
  {
   "cell_type": "code",
   "execution_count": null,
   "id": "2692f6c6",
   "metadata": {
    "ExecuteTime": {
     "start_time": "2024-05-03T00:26:42.669Z"
    },
    "code_folding": [
     56
    ],
    "scrolled": true
   },
   "outputs": [
    {
     "name": "stdout",
     "output_type": "stream",
     "text": [
      "00:01 ~ 08:26 開始執行\n",
      "00:01 ~ 08:26 done\n",
      "08:26 ~ 08:36 開始執行\n",
      "08:26 ~ 08:37 no news\n",
      "08:37 ~ 08:47 開始執行\n",
      "08:37 ~ 08:47 no news\n",
      "08:47 ~ 08:57 開始執行\n",
      "08:47 ~ 08:57 done\n",
      "08:57 ~ 09:07 開始執行\n",
      "08:57 ~ 09:07 no news\n",
      "09:07 ~ 09:17 開始執行\n",
      "09:07 ~ 09:18 no news\n",
      "09:18 ~ 09:28 開始執行\n",
      "09:18 ~ 09:28 no news\n",
      "09:28 ~ 09:38 開始執行\n",
      "09:28 ~ 09:38 no news\n",
      "09:38 ~ 09:48 開始執行\n",
      "09:38 ~ 09:49 no news\n",
      "09:49 ~ 09:59 開始執行\n",
      "09:49 ~ 09:59 no news\n",
      "09:59 ~ 10:09 開始執行\n",
      "09:59 ~ 10:09 no news\n",
      "10:09 ~ 10:19 開始執行\n",
      "10:09 ~ 10:22 no news\n",
      "10:22 ~ 10:32 開始執行\n",
      "10:22 ~ 10:33 no news\n",
      "10:33 ~ 10:43 開始執行\n",
      "10:33 ~ 10:43 no news\n",
      "10:43 ~ 10:53 開始執行\n",
      "10:43 ~ 10:53 no news\n",
      "10:53 ~ 11:03 開始執行\n",
      "10:53 ~ 11:03 done\n",
      "11:03 ~ 11:13 開始執行\n",
      "11:03 ~ 11:14 no news\n",
      "11:14 ~ 11:24 開始執行\n",
      "11:14 ~ 11:27 no news\n",
      "11:27 ~ 11:37 開始執行\n",
      "11:27 ~ 11:37 no news\n",
      "11:37 ~ 11:47 開始執行\n",
      "11:37 ~ 11:48 no news\n",
      "11:48 ~ 11:58 開始執行\n",
      "11:48 ~ 11:58 no news\n",
      "11:58 ~ 12:08 開始執行\n",
      "11:58 ~ 12:08 no news\n",
      "12:08 ~ 12:18 開始執行\n",
      "12:08 ~ 12:18 no news\n",
      "12:18 ~ 12:28 開始執行\n",
      "12:18 ~ 12:29 no news\n",
      "12:29 ~ 12:39 開始執行\n",
      "12:29 ~ 12:39 no news\n",
      "12:39 ~ 12:49 開始執行\n",
      "12:39 ~ 12:49 no news\n",
      "12:49 ~ 12:59 開始執行\n",
      "12:49 ~ 12:59 no news\n",
      "12:59 ~ 13:09 開始執行\n",
      "12:59 ~ 13:10 no news\n",
      "13:10 ~ 13:20 開始執行\n",
      "13:10 ~ 13:20 no news\n",
      "13:20 ~ 13:30 開始執行\n",
      "13:20 ~ 13:30 done\n",
      "13:30 ~ 13:40 開始執行\n",
      "13:30 ~ 13:41 no news\n",
      "13:41 ~ 13:51 開始執行\n",
      "13:41 ~ 13:52 no news\n",
      "13:52 ~ 14:02 開始執行\n",
      "13:52 ~ 14:02 no news\n",
      "14:02 ~ 14:12 開始執行\n",
      "14:02 ~ 14:13 no news\n",
      "14:13 ~ 14:23 開始執行\n",
      "14:13 ~ 14:23 no news\n",
      "14:23 ~ 14:33 開始執行\n",
      "14:23 ~ 14:33 no news\n",
      "14:33 ~ 14:43 開始執行\n",
      "14:33 ~ 14:43 no news\n",
      "14:43 ~ 14:53 開始執行\n",
      "14:43 ~ 14:54 no news\n",
      "14:54 ~ 15:04 開始執行\n",
      "14:54 ~ 15:04 no news\n",
      "15:04 ~ 15:14 開始執行\n",
      "15:04 ~ 15:14 done\n",
      "15:14 ~ 15:24 開始執行\n",
      "15:14 ~ 15:25 done\n",
      "15:25 ~ 15:35 開始執行\n",
      "15:25 ~ 15:36 no news\n",
      "15:36 ~ 15:46 開始執行\n",
      "15:36 ~ 15:46 no news\n",
      "15:46 ~ 15:56 開始執行\n",
      "15:46 ~ 15:57 no news\n",
      "15:57 ~ 16:07 開始執行\n",
      "15:57 ~ 16:07 no news\n",
      "16:07 ~ 16:17 開始執行\n",
      "16:07 ~ 16:17 no news\n",
      "16:17 ~ 16:27 開始執行\n",
      "16:17 ~ 16:28 done\n",
      "16:28 ~ 16:38 開始執行\n",
      "16:28 ~ 16:38 no news\n",
      "16:38 ~ 16:48 開始執行\n",
      "16:38 ~ 16:49 done\n"
     ]
    }
   ],
   "source": [
    "keywords = ['股利', '營業收入', '第一季', '第1季', '貢獻', 'EPS', '打入', '供應鏈', '跨足', '訂單', '採用', '新藥', '認證', '通過', 'FDA', '簽訂', '合作', '自結', '結盟', '補助', '資產', '售地', '判賠', '訴訟', '官司', '記者會', '合約', '疫情', '新冠', '現金增資', '取得', '有價證券', '收購', '併購', '土地', '業外']\n",
    "seasons = ['第一季', '第二季', '第三季', '第四季', '第1季', '第2季', '第3季', '第4季']\n",
    "# '政府', '行政院'\n",
    "lst_keywords = list(set(keywords + seasons))\n",
    "\n",
    "# 每次程式執行中間休息時間\n",
    "wait_minutes = 10\n",
    "\n",
    "# line notify token\n",
    "token = '8tia3RLmEzqUCqZ0KbkH2mJGosy484K6bNn9oDSKxAI'   # 工商時報通知 - test群組\n",
    "\n",
    "def get_ctee_news(begin_time, lst_keywords):\n",
    "    firefox_options = Options()\n",
    "    firefox_options.add_argument(\"--headless\")  # 無頭模式，不打開瀏覽器窗口\n",
    "    driver = webdriver.Firefox(options=firefox_options)\n",
    "    # driver = webdriver.Firefox()\n",
    "\n",
    "    # 打开網頁\n",
    "    url = \"https://www.ctee.com.tw/livenews\"\n",
    "    driver.get(url)\n",
    "\n",
    "    # 等待頁面加載完成\n",
    "    WebDriverWait(driver, 10).until(EC.presence_of_element_located((By.XPATH, \"//div[@class='newslist__card']\")))\n",
    "    news_lst = driver.find_elements(By.XPATH, \"//div[@class='newslist__card']\") # 找到新聞位置\n",
    "\n",
    "    # 取出在指定時間中的新聞\n",
    "    df_news_ctee = pd.DataFrame()\n",
    "    for i in range(len(news_lst)):\n",
    "        title = news_lst[i].find_element(By.XPATH, \".//h3[@class='news-title']\").text\n",
    "        date = news_lst[i].find_element(By.CLASS_NAME, \"news-date\").text.replace('.', '/')\n",
    "        date_time = news_lst[i].find_element(By.CLASS_NAME, \"news-time\").text\n",
    "        link = news_lst[i].find_element(By.XPATH, \".//h3[@class='news-title']\").find_element(By.XPATH, \"./a\").get_attribute(\"href\")\n",
    "        if date_time >= begin_time:\n",
    "    #         print('============================')\n",
    "    #         print('標題:', title)\n",
    "    #         print('日期:', date)\n",
    "    #         print('時間:', date_time)\n",
    "    #         print('網址:', link)\n",
    "            if any(keyword in title for keyword in lst_keywords):\n",
    "                df_news_ctee = pd.concat([df_news_ctee, pd.DataFrame({\n",
    "                    '標題': [title],\n",
    "                    '日期': [date],\n",
    "                    '時間': [date_time],\n",
    "                    '網址': [link],\n",
    "                })])\n",
    "        else:\n",
    "            break\n",
    "    #         print('============================')\n",
    "    #         print('標題:', title)\n",
    "    #         print('時間:', date_time)\n",
    "    df_news_ctee.reset_index(drop=True, inplace=True)\n",
    "    driver.close()\n",
    "    driver.quit()   # 關閉\n",
    "    \n",
    "    return df_news_ctee\n",
    "\n",
    "def lineNotifyMessage(token, msg):\n",
    "    headers = {\n",
    "        \"Authorization\": 'Bearer ' + token, \n",
    "        # \"Content-Type\" : \"application/x-www-form-urlencoded\"\n",
    "    }\n",
    "\n",
    "    data = {'message': msg}\n",
    "    \n",
    "    try:\n",
    "        r = requests.post(\"https://notify-api.line.me/api/notify\", headers=headers, data=data)\n",
    "        r.raise_for_status()  # 如果發生錯誤，會丟出相應的異常\n",
    "        return r.status_code\n",
    "    except requests.exceptions.RequestException as e:\n",
    "        print(\"Error:\", e)\n",
    "        return None\n",
    "\n",
    "# ============================================================\n",
    "# main func\n",
    "for i in range(50):\n",
    "    if i == 0:\n",
    "        begin_time = '00:01'\n",
    "    else:\n",
    "        # (datetime.now() - timedelta(minutes=5)).strftime(\"%Y-%m-%d %H:%M:%S\") \n",
    "        begin_time = (datetime.now() - timedelta(minutes=wait_minutes)).strftime(\"%H:%M\")\n",
    "    \n",
    "    # -------------\n",
    "    print(begin_time, '~', datetime.now().strftime(\"%H:%M\"), '開始執行')\n",
    "    df_news_ctee = get_ctee_news(begin_time, lst_keywords)\n",
    "    \n",
    "    # if not df_news_ctee.empty:\n",
    "        # df_news_ctee = df_news_ctee[df_news_ctee['標題'].str.contains('|'.join(lst_keywords))]\n",
    "    if not df_news_ctee.empty:\n",
    "        for i in df_news_ctee.index:\n",
    "            message = (\n",
    "                # '工商時報' + '\\n' + \n",
    "                '\\n' + \n",
    "                '📝' + df_news_ctee.at[i, '標題'] + '\\n' + \n",
    "                '🔗網址:' + '\\n' + \n",
    "                df_news_ctee.at[i, '網址']\n",
    "            )\n",
    "            # print(message)\n",
    "            lineNotifyMessage(token, message)\n",
    "        print(begin_time, '~', datetime.now().strftime(\"%H:%M\"), 'done')\n",
    "    else:\n",
    "        print(begin_time, '~', datetime.now().strftime(\"%H:%M\"), 'no news')\n",
    "    \n",
    "    time.sleep(wait_minutes*60)"
   ]
  },
  {
   "cell_type": "code",
   "execution_count": 4,
   "id": "38622fe0",
   "metadata": {
    "ExecuteTime": {
     "end_time": "2024-04-30T02:36:46.908731Z",
     "start_time": "2024-04-30T02:36:46.885803Z"
    }
   },
   "outputs": [
    {
     "data": {
      "text/html": [
       "<div>\n",
       "<style scoped>\n",
       "    .dataframe tbody tr th:only-of-type {\n",
       "        vertical-align: middle;\n",
       "    }\n",
       "\n",
       "    .dataframe tbody tr th {\n",
       "        vertical-align: top;\n",
       "    }\n",
       "\n",
       "    .dataframe thead th {\n",
       "        text-align: right;\n",
       "    }\n",
       "</style>\n",
       "<table border=\"1\" class=\"dataframe\">\n",
       "  <thead>\n",
       "    <tr style=\"text-align: right;\">\n",
       "      <th></th>\n",
       "    </tr>\n",
       "  </thead>\n",
       "  <tbody>\n",
       "  </tbody>\n",
       "</table>\n",
       "</div>"
      ],
      "text/plain": [
       "Empty DataFrame\n",
       "Columns: []\n",
       "Index: []"
      ]
     },
     "execution_count": 4,
     "metadata": {},
     "output_type": "execute_result"
    }
   ],
   "source": [
    "df_news_ctee"
   ]
  },
  {
   "cell_type": "code",
   "execution_count": null,
   "id": "c9f8a551",
   "metadata": {},
   "outputs": [],
   "source": [
    "begin_time = '07:00'\n",
    "df_news_ctee = get_ctee_news(begin_time)\n",
    "df_news_ctee"
   ]
  },
  {
   "cell_type": "code",
   "execution_count": null,
   "id": "bc3efdc1",
   "metadata": {},
   "outputs": [],
   "source": [
    "df_news_ctee = df_news_ctee[df_news_ctee['標題'].str.contains('|'.join(lst_keywords))].reset_index(drop=True)\n",
    "df_news_ctee"
   ]
  },
  {
   "cell_type": "markdown",
   "id": "a92ef8a2",
   "metadata": {
    "heading_collapsed": true
   },
   "source": [
    "# request"
   ]
  },
  {
   "cell_type": "code",
   "execution_count": null,
   "id": "d1d41970",
   "metadata": {
    "hidden": true
   },
   "outputs": [],
   "source": [
    "import requests\n",
    "from bs4 import BeautifulSoup\n",
    "import pandas as pd"
   ]
  },
  {
   "cell_type": "code",
   "execution_count": null,
   "id": "c05c3e03",
   "metadata": {
    "hidden": true
   },
   "outputs": [],
   "source": [
    "# 工商時報\n",
    "# headers = {\n",
    "#     \"User-Agent\": \"Mozilla/5.0 (Windows NT 10.0; Win64; x64) AppleWebKit/537.36 (KHTML, like Gecko) Chrome/122.0.0.0 Safari/537.36\", \n",
    "#     \"Referer\": \"https://www.google.com/\"  #參照位址\n",
    "# }\n",
    "url=\"https://www.ctee.com.tw/livenews/policy\"\n",
    "headers={\n",
    "    'Referer': 'https://www.google.com/',\n",
    "    'content-type' : 'text/html; charset=UTF-8',\n",
    "    'user-agent':'Mozilla/5.0 (Windows NT 10.0; Win64; x64) AppleWebKit/537.36 (KHTML, like Gecko) Chrome/123.0.0.0 Safari/537.36'\n",
    "}\n",
    "\n",
    "response = requests.get(url, headers=headers)\n",
    "response"
   ]
  },
  {
   "cell_type": "code",
   "execution_count": null,
   "id": "b709c172",
   "metadata": {
    "hidden": true
   },
   "outputs": [],
   "source": [
    "soup = BeautifulSoup(response.text,\"lxml\")\n",
    "soup"
   ]
  },
  {
   "cell_type": "code",
   "execution_count": null,
   "id": "f56dca38",
   "metadata": {
    "hidden": true
   },
   "outputs": [],
   "source": [
    "i = 0\n",
    "df_ctee = pd.DataFrame()\n",
    "for i in range(20):\n",
    "    print('news od', i, '=======')\n",
    "    # 標題\n",
    "    title = soup.select(\"div.newslist__card\")[i].select(\"h3\")[0].text\n",
    "    print(title)\n",
    "    # 時間 (日期+時間)\n",
    "    date_time = soup.select(\"div.newslist__card\")[i].select(\"time\")[0].text + ' ' + soup.select(\"div.newslist__card\")[i].select(\"time\")[1].text\n",
    "    print(date_time)\n",
    "    # 新聞網址\n",
    "    href = soup.select(\"div.newslist__card\")[i].select(\"h3\")[0].a.attrs['href'] \n",
    "    href = 'https://www.ctee.com.tw'+href\n",
    "    print(href)\n",
    "    \n",
    "    temp = pd.DataFrame({\n",
    "        'title':[title],\n",
    "        '時間':[date_time],\n",
    "        'url':[href]\n",
    "    })\n",
    "    \n",
    "    df_ctee = pd.concat([df_ctee,temp],axis=0)\n",
    "\n",
    "df_ctee = df_ctee.reset_index(drop=True)\n",
    "df_ctee"
   ]
  },
  {
   "cell_type": "markdown",
   "id": "a1f9858e",
   "metadata": {},
   "source": [
    "# line notify"
   ]
  },
  {
   "cell_type": "code",
   "execution_count": null,
   "id": "046a5089",
   "metadata": {},
   "outputs": [],
   "source": []
  }
 ],
 "metadata": {
  "kernelspec": {
   "display_name": "Python 3 (ipykernel)",
   "language": "python",
   "name": "python3"
  },
  "language_info": {
   "codemirror_mode": {
    "name": "ipython",
    "version": 3
   },
   "file_extension": ".py",
   "mimetype": "text/x-python",
   "name": "python",
   "nbconvert_exporter": "python",
   "pygments_lexer": "ipython3",
   "version": "3.10.9"
  },
  "toc": {
   "base_numbering": 1,
   "nav_menu": {},
   "number_sections": true,
   "sideBar": true,
   "skip_h1_title": false,
   "title_cell": "Table of Contents",
   "title_sidebar": "Contents",
   "toc_cell": false,
   "toc_position": {},
   "toc_section_display": true,
   "toc_window_display": false
  },
  "varInspector": {
   "cols": {
    "lenName": 16,
    "lenType": 16,
    "lenVar": 40
   },
   "kernels_config": {
    "python": {
     "delete_cmd_postfix": "",
     "delete_cmd_prefix": "del ",
     "library": "var_list.py",
     "varRefreshCmd": "print(var_dic_list())"
    },
    "r": {
     "delete_cmd_postfix": ") ",
     "delete_cmd_prefix": "rm(",
     "library": "var_list.r",
     "varRefreshCmd": "cat(var_dic_list()) "
    }
   },
   "types_to_exclude": [
    "module",
    "function",
    "builtin_function_or_method",
    "instance",
    "_Feature"
   ],
   "window_display": false
  }
 },
 "nbformat": 4,
 "nbformat_minor": 5
}
